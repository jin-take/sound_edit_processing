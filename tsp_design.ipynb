{
 "cells": [
  {
   "cell_type": "code",
   "execution_count": 1,
   "metadata": {},
   "outputs": [],
   "source": [
    "import numpy as np\n",
    "\n",
    "def normal_tsp(n, gain=50, repeat=1):\n",
    "    N = 2**n\n",
    "    m = N//4\n",
    "\n",
    "    A = 50\n",
    "    L = N//2 - m\n",
    "    k = np.arange(0, N)\n",
    "\n",
    "    tsp_freq = np.zeros(N, dtype=np.complex128)\n",
    "    tsp_exp = np.exp(-1j*4*m*np.pi*(k/N)**2)\n",
    "\n",
    "    tsp_freq[0:N//2+1] = tsp_exp[0:N//2+1]\n",
    "    tsp_freq[N//2+1: N+1] = np.conj(tsp_exp[1 : N//2][::-1])\n",
    "\n",
    "    tsp_inv_freq = 1 / tsp_freq\n",
    "\n",
    "    tsp = np.real(np.fft.ifft(tsp_freq))\n",
    "    tsp = gain * np.roll(tsp, L)\n",
    "\n",
    "    tsp_repeat = np.r_[np.tile(tsp, repeat), np.zeros(N)]\n",
    "\n",
    "    tsp_inv = np.real(np.fft.ifft(tsp_inv_freq))\n",
    "    tsp_inv =  gain * np.roll(tsp_inv, -L)\n",
    "\n",
    "    tsp_inv_repeat = np.r_[np.tile(tsp_inv, repeat), np.zeros(N)]\n",
    "\n",
    "    return tsp_repeat, tsp_inv\n",
    "\n",
    "def pink_tsp(n, gain=50, repeat=1):\n",
    "\n",
    "    N = 2**n\n",
    "    m = N//4\n",
    "\n",
    "    L = N//2 - m\n",
    "    k = np.arange(1, N)\n",
    "\n",
    "    a = 4 * m * np.pi / (N * np.log(N/2))\n",
    "\n",
    "    tsp_freq = np.zeros(N, dtype=np.complex128)\n",
    "    tsp_exp = np.exp(1.j * a * k * np.log(k)) / np.sqrt(k)\n",
    "\n",
    "    tsp_freq[0] = 1\n",
    "    tsp_freq[1:N//2+1] = tsp_exp[1:N//2+1]\n",
    "    tsp_freq[N//2+1: N+1] = np.conj(tsp_exp[1 : N//2][::-1])\n",
    "\n",
    "    tsp_inv_freq = 1 / tsp_freq\n",
    "\n",
    "    tsp = gain * np.real(np.fft.ifft(tsp_freq))[::-1]\n",
    "    tsp =  gain * np.roll(tsp, L)\n",
    "    tsp_repeat = np.r_[np.tile(tsp, repeat), np.zeros(N)]\n",
    "\n",
    "    tsp_inv = np.real(np.fft.ifft(tsp_inv_freq))[::-1]\n",
    "    tsp_inv =  gain * np.roll(tsp_inv, L)\n",
    "\n",
    "\n",
    "    return tsp_repeat, tsp_inv"
   ]
  },
  {
   "cell_type": "code",
   "execution_count": null,
   "metadata": {},
   "outputs": [],
   "source": []
  }
 ],
 "metadata": {
  "kernelspec": {
   "display_name": "Python 3",
   "language": "python",
   "name": "python3"
  },
  "language_info": {
   "codemirror_mode": {
    "name": "ipython",
    "version": 3
   },
   "file_extension": ".py",
   "mimetype": "text/x-python",
   "name": "python",
   "nbconvert_exporter": "python",
   "pygments_lexer": "ipython3",
   "version": "3.8.3"
  }
 },
 "nbformat": 4,
 "nbformat_minor": 4
}
