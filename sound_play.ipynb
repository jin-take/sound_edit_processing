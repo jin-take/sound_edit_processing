{
 "cells": [
  {
   "cell_type": "code",
   "execution_count": null,
   "metadata": {},
   "outputs": [],
   "source": [
    "#coding: utf-8\n",
    "import wave\n",
    "import pyaudio"
   ]
  },
  {
   "cell_type": "code",
   "execution_count": null,
   "metadata": {},
   "outputs": [],
   "source": [
    "def printWaveInfo(wf):\n",
    "    \"\"\"WAVEファイルの情報を取得\"\"\"\n",
    "    print \"チャンネル数:\", wf.getnchannels()\n",
    "    print \"サンプル幅:\", wf.getsampwidth()\n",
    "    print \"サンプリング周波数:\", wf.getframerate()\n",
    "    print \"フレーム数:\", wf.getnframes()\n",
    "    print \"パラメータ:\", wf.getparams()\n",
    "    print \"長さ（秒）:\", float(wf.getnframes()) / wf.getframerate()\n",
    "    "
   ]
  },
  {
   "cell_type": "code",
   "execution_count": null,
   "metadata": {},
   "outputs": [],
   "source": [
    "wf = wave.open(\"sineWithNoise.wav\", \"r\")\n",
    "\n",
    "printWaveInfo(wf)\n",
    "\n",
    "# ストリームを開く\n",
    "p = pyaudio.PyAudio()\n",
    "stream = p.open(format=p.get_format_from_width(wf.getsampwidth()),\n",
    "                channels=wf.getnchannels(),\n",
    "                rate=wf.getframerate(),\n",
    "                output=True)\n",
    "\n",
    "# チャンク単位でストリームに出力し音声を再生\n",
    "chunk = 1024\n",
    "data = wf.readframes(chunk)\n",
    "while data != '':\n",
    "    stream.write(data)\n",
    "    data = wf.readframes(chunk)\n",
    "stream.close()\n",
    "p.terminate()"
   ]
  }
 ],
 "metadata": {
  "kernelspec": {
   "display_name": "Python 3",
   "language": "python",
   "name": "python3"
  },
  "language_info": {
   "codemirror_mode": {
    "name": "ipython",
    "version": 3
   },
   "file_extension": ".py",
   "mimetype": "text/x-python",
   "name": "python",
   "nbconvert_exporter": "python",
   "pygments_lexer": "ipython3",
   "version": "3.8.3"
  }
 },
 "nbformat": 4,
 "nbformat_minor": 4
}
