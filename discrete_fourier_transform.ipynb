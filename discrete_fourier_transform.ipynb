{
 "cells": [
  {
   "cell_type": "code",
   "execution_count": null,
   "metadata": {},
   "outputs": [],
   "source": [
    "#coding:utf-8\n",
    "import wave\n",
    "import numpy as np\n",
    "from pylab import *"
   ]
  },
  {
   "cell_type": "code",
   "execution_count": null,
   "metadata": {},
   "outputs": [],
   "source": [
    "def dft (start, x, N):\n",
    "    \"\"\"xのstartサンプル目からのNサンプルを周期波形とみなしたDFT値を返す\"\"\"\n",
    "    X = [0.0] * N\n",
    "    for k in range(N):\n",
    "        for n in range(N):\n",
    "            real = np.cos(2 * np.pi * k * n / N)\n",
    "            imag = - np.sin(2 * np.pi * k * n / N)\n",
    "            X[k] += x[start + n] * complex(real, imag)\n",
    "    return X"
   ]
  },
  {
   "cell_type": "code",
   "execution_count": null,
   "metadata": {},
   "outputs": [],
   "source": [
    "wf = wave.open(\"data/sine.wav\" , \"r\" )\n",
    "fs = wf.getframerate()  # サンプリング周波数\n",
    "x = wf.readframes(wf.getnframes())\n",
    "x = frombuffer(x, dtype= \"int16\") / 32768.0  # -1 - +1に正規化した波形\n",
    "print len(x)\n",
    "wf.close()\n",
    "\n",
    "start = 0        # サンプリングする開始位置\n",
    "N = 256          # サンプル数\n",
    "X = dft(start, x, N)    # 離散フーリエ変換\n",
    "freqList = [k * fs / N for k in range(N)]    # 周波数のリスト\n",
    "amplitudeSpectrum = [np.sqrt(c.real ** 2 + c.imag ** 2) for c in X]    # 振幅スペクトル np.abs()\n",
    "phaseSpectrum = [np.arctan2(int(c.imag), int(c.real)) for c in X]      # 位相スペクトル np.angle()\n",
    "\n",
    "# 波形サンプルを描画\n",
    "subplot(311)  # 3行1列のグラフの1番目の位置にプロット\n",
    "plot(range(start, start+N), x[start:start+N])\n",
    "axis([start, start+N, -1.0, 1.0])\n",
    "xlabel(\"time [sample]\")\n",
    "ylabel(\"amplitude\")\n",
    "\n",
    "# 振幅スペクトルを描画\n",
    "subplot(312)\n",
    "plot(freqList, amplitudeSpectrum, marker='o', linestyle='-')\n",
    "axis([0, fs/2, 0, 15])    # ナイキスト周波数まで表示すれば十分\n",
    "xlabel(\"frequency [Hz]\")\n",
    "ylabel(\"amplitude spectrum\")\n",
    "\n",
    "# 位相スペクトルを描画\n",
    "subplot(313)\n",
    "plot(freqList, phaseSpectrum, marker='o', linestyle='-')\n",
    "axis([0, fs/2, -np.pi, np.pi])\n",
    "xlabel(\"frequency [Hz]\")\n",
    "ylabel(\"phase spectrum\")\n",
    "\n",
    "show()"
   ]
  }
 ],
 "metadata": {
  "kernelspec": {
   "display_name": "Python 3",
   "language": "python",
   "name": "python3"
  },
  "language_info": {
   "codemirror_mode": {
    "name": "ipython",
    "version": 3
   },
   "file_extension": ".py",
   "mimetype": "text/x-python",
   "name": "python",
   "nbconvert_exporter": "python",
   "pygments_lexer": "ipython3",
   "version": "3.8.3"
  }
 },
 "nbformat": 4,
 "nbformat_minor": 4
}
