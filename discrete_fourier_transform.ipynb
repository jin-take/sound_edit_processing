{
 "cells": [
  {
   "cell_type": "code",
   "execution_count": 21,
   "metadata": {},
   "outputs": [],
   "source": [
    "#coding:utf-8\n",
    "import wave\n",
    "import numpy as np\n",
    "from pylab import *"
   ]
  },
  {
   "cell_type": "code",
   "execution_count": 22,
   "metadata": {},
   "outputs": [],
   "source": [
    "# 離散フーリエ変換\n",
    "def dft (start, x, N):\n",
    "    \"\"\"xのstartサンプル目からのNサンプルを周期波形とみなしたDFT値を返す\"\"\"\n",
    "    X = [0.0] * N\n",
    "    for k in range(N):\n",
    "        for n in range(N):\n",
    "            real = np.cos(2 * np.pi * k * n / N)\n",
    "            imag = - np.sin(2 * np.pi * k * n / N)\n",
    "            X[k] += x[start + n] * complex(real, imag)\n",
    "    return X"
   ]
  },
  {
   "cell_type": "code",
   "execution_count": 23,
   "metadata": {},
   "outputs": [
    {
     "name": "stdout",
     "output_type": "stream",
     "text": [
      "44100\n"
     ]
    }
   ],
   "source": [
    "# 読み込み\n",
    "wf = wave.open(\"/Users/jin237/Documents/juxta_data/juxtaphony_project/prelminary_experiment/sound_data/whispervoice/sasayaki_throat.wav\" , \"r\" )\n",
    "# サンプリング周波数\n",
    "fs = wf.getframerate()  \n",
    "print(fs)"
   ]
  },
  {
   "cell_type": "code",
   "execution_count": 24,
   "metadata": {},
   "outputs": [
    {
     "name": "stdout",
     "output_type": "stream",
     "text": [
      "1149322\n"
     ]
    }
   ],
   "source": [
    "# フレーム数を取得\n",
    "x = wf.readframes(wf.getnframes())\n",
    "# -1 - +1に正規化した波形\n",
    "# bytes から ndarray 1次元配列へ変換\n",
    "# 16ビットのファイルなら32768〜32767の範囲で読み込まれる。\n",
    "x = frombuffer(x, dtype= \"int16\") / 32768.0  \n",
    "print(len(x))\n",
    "wf.close()"
   ]
  },
  {
   "cell_type": "code",
   "execution_count": null,
   "metadata": {},
   "outputs": [],
   "source": [
    "# サンプリングする開始位置\n",
    "start = 0    \n",
    "# サンプル数\n",
    "N = 1149322\n",
    "# 離散フーリエ変換\n",
    "X = dft(start, x, N)\n",
    "# 周波数のリスト\n",
    "freqList = [k * fs / N for k in range(N)] \n",
    "print(max(freqList))\n",
    "# 振幅スペクトル np.abs()\n",
    "amplitudeSpectrum = [np.sqrt(c.real ** 2 + c.imag ** 2) for c in X] \n",
    "print(max(amplitudeSpectrum))\n",
    "# 位相スペクトル np.angle()\n",
    "phaseSpectrum = [np.arctan2(int(c.imag), int(c.real)) for c in X]      \n",
    "print(max(phaseSpectrum))"
   ]
  },
  {
   "cell_type": "code",
   "execution_count": null,
   "metadata": {},
   "outputs": [],
   "source": [
    "# 波形サンプルを描画\n",
    "plot(range(start, start+N), x[start:start+N])\n",
    "axis([start, start+N, -0.35/100, 0.35/100])\n",
    "plt.grid()\n",
    "xlabel(\"time [sec]\")\n",
    "ylabel(\"amplitude\")\n",
    "show()"
   ]
  },
  {
   "cell_type": "code",
   "execution_count": 46,
   "metadata": {},
   "outputs": [
    {
     "data": {
      "image/png": "[encoded data removed]",
      "text/plain": [
       "<Figure size 432x288 with 1 Axes>"
      ]
     },
     "metadata": {
      "needs_background": "light"
     },
     "output_type": "display_data"
    }
   ],
   "source": [
    "# 振幅スペクトルを描画\n",
    "plot(freqList, amplitudeSpectrum, linestyle='-')\n",
    "# ナイキスト周波数まで表示すれば十分\n",
    "axis([0, fs/2, 0, 0.35])    \n",
    "xlabel(\"Frequency [Hz]\")\n",
    "ylabel(\"Amplitude spectrum\")\n",
    "show()"
   ]
  },
  {
   "cell_type": "code",
   "execution_count": 49,
   "metadata": {},
   "outputs": [
    {
     "data": {
      "image/png": "[encoded data removed]",
      "text/plain": [
       "<Figure size 432x288 with 1 Axes>"
      ]
     },
     "metadata": {
      "needs_background": "light"
     },
     "output_type": "display_data"
    }
   ],
   "source": [
    "# 位相スペクトルを描画\n",
    "plot(freqList, phaseSpectrum,  linestyle='-')\n",
    "axis([0, fs/2, -np.pi, np.pi])\n",
    "xlabel(\"frequency [Hz]\")\n",
    "ylabel(\"phase spectrum\")\n",
    "\n",
    "show()"
   ]
  },
  {
   "cell_type": "code",
   "execution_count": null,
   "metadata": {},
   "outputs": [],
   "source": []
  }
 ],
 "metadata": {
  "kernelspec": {
   "display_name": "Python 3",
   "language": "python",
   "name": "python3"
  },
  "language_info": {
   "codemirror_mode": {
    "name": "ipython",
    "version": 3
   },
   "file_extension": ".py",
   "mimetype": "text/x-python",
   "name": "python",
   "nbconvert_exporter": "python",
   "pygments_lexer": "ipython3",
   "version": "3.8.3"
  }
 },
 "nbformat": 4,
 "nbformat_minor": 4
}
